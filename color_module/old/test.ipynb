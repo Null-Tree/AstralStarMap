{
 "cells": [
  {
   "cell_type": "code",
   "execution_count": 8,
   "id": "6190c6c4",
   "metadata": {},
   "outputs": [],
   "source": [
    "from SpecRend import *\n",
    "from color_conversion_SpecRend import *"
   ]
  },
  {
   "cell_type": "code",
   "execution_count": null,
   "id": "ca5132aa",
   "metadata": {},
   "outputs": [
    {
     "ename": "ZeroDivisionError",
     "evalue": "float division by zero",
     "output_type": "error",
     "traceback": [
      "\u001b[1;31m---------------------------------------------------------------------------\u001b[0m",
      "\u001b[1;31mZeroDivisionError\u001b[0m                         Traceback (most recent call last)",
      "Cell \u001b[1;32mIn[9], line 5\u001b[0m\n\u001b[0;32m      1\u001b[0m l\u001b[38;5;241m=\u001b[39m[i\u001b[38;5;241m*\u001b[39m\u001b[38;5;241m2000\u001b[39m \u001b[38;5;28;01mfor\u001b[39;00m i \u001b[38;5;129;01min\u001b[39;00m \u001b[38;5;28mrange\u001b[39m(\u001b[38;5;241m6\u001b[39m)]\n\u001b[0;32m      2\u001b[0m \u001b[38;5;66;03m# print(l)\u001b[39;00m\n\u001b[1;32m----> 5\u001b[0m cc\u001b[38;5;241m=\u001b[39mcolor_conversion(l,DeColour\u001b[38;5;241m=\u001b[39m\u001b[38;5;28;01mFalse\u001b[39;00m)\n\u001b[0;32m      9\u001b[0m \u001b[38;5;28;01mfor\u001b[39;00m i \u001b[38;5;129;01min\u001b[39;00m cc:\n\u001b[0;32m     10\u001b[0m     \u001b[38;5;28mprint\u001b[39m(i)\n",
      "File \u001b[1;32mc:\\Users\\qixuy\\Documents\\GitHub\\AstralStarMap\\color_module\\color_conversion_SpecRend.py:13\u001b[0m, in \u001b[0;36mcolor_conversion\u001b[1;34m(icol, DeColour)\u001b[0m\n\u001b[0;32m     10\u001b[0m teff \u001b[38;5;241m=\u001b[39m icol[i]\n\u001b[0;32m     12\u001b[0m \u001b[38;5;66;03m# Convert spectrum to XYZ coordinates\u001b[39;00m\n\u001b[1;32m---> 13\u001b[0m x, y, z \u001b[38;5;241m=\u001b[39m SpecRend\u001b[38;5;241m.\u001b[39mspectrum_to_xyz(SpecRend\u001b[38;5;241m.\u001b[39mbb_spectrum, teff)\n\u001b[0;32m     15\u001b[0m \u001b[38;5;66;03m# Convert XYZ to RGB\u001b[39;00m\n\u001b[0;32m     16\u001b[0m r, g, b \u001b[38;5;241m=\u001b[39m SpecRend\u001b[38;5;241m.\u001b[39mxyz_to_rgb(SpecRend\u001b[38;5;241m.\u001b[39mRec709system, x, y, z)\n",
      "File \u001b[1;32mc:\\Users\\qixuy\\Documents\\GitHub\\AstralStarMap\\color_module\\SpecRend.py:190\u001b[0m, in \u001b[0;36mSpecRend.spectrum_to_xyz\u001b[1;34m(spec_intens, parm)\u001b[0m\n\u001b[0;32m    188\u001b[0m \u001b[38;5;28;01mfor\u001b[39;00m i \u001b[38;5;129;01min\u001b[39;00m \u001b[38;5;28mrange\u001b[39m(\u001b[38;5;28mlen\u001b[39m(cie_colour_match)):\n\u001b[0;32m    189\u001b[0m     lambda_val \u001b[38;5;241m=\u001b[39m \u001b[38;5;241m380\u001b[39m \u001b[38;5;241m+\u001b[39m i \u001b[38;5;241m*\u001b[39m \u001b[38;5;241m5\u001b[39m\n\u001b[1;32m--> 190\u001b[0m     Me \u001b[38;5;241m=\u001b[39m spec_intens(lambda_val, parm)\n\u001b[0;32m    191\u001b[0m     X \u001b[38;5;241m+\u001b[39m\u001b[38;5;241m=\u001b[39m Me \u001b[38;5;241m*\u001b[39m cie_colour_match[i][\u001b[38;5;241m0\u001b[39m]\n\u001b[0;32m    192\u001b[0m     Y \u001b[38;5;241m+\u001b[39m\u001b[38;5;241m=\u001b[39m Me \u001b[38;5;241m*\u001b[39m cie_colour_match[i][\u001b[38;5;241m1\u001b[39m]\n",
      "File \u001b[1;32mc:\\Users\\qixuy\\Documents\\GitHub\\AstralStarMap\\color_module\\SpecRend.py:208\u001b[0m, in \u001b[0;36mSpecRend.bb_spectrum\u001b[1;34m(wavelength, bbTemp)\u001b[0m\n\u001b[0;32m    206\u001b[0m wlm \u001b[38;5;241m=\u001b[39m wavelength \u001b[38;5;241m*\u001b[39m \u001b[38;5;241m1e-9\u001b[39m  \u001b[38;5;66;03m# Convert nm to meters\u001b[39;00m\n\u001b[0;32m    207\u001b[0m numerator \u001b[38;5;241m=\u001b[39m \u001b[38;5;241m3.74183e-16\u001b[39m \u001b[38;5;241m*\u001b[39m (wlm \u001b[38;5;241m*\u001b[39m\u001b[38;5;241m*\u001b[39m \u001b[38;5;241m-\u001b[39m\u001b[38;5;241m5.0\u001b[39m)\n\u001b[1;32m--> 208\u001b[0m denominator \u001b[38;5;241m=\u001b[39m math\u001b[38;5;241m.\u001b[39mexp(\u001b[38;5;241m1.4388e-2\u001b[39m \u001b[38;5;241m/\u001b[39m (wlm \u001b[38;5;241m*\u001b[39m bbTemp)) \u001b[38;5;241m-\u001b[39m \u001b[38;5;241m1.0\u001b[39m\n\u001b[0;32m    209\u001b[0m \u001b[38;5;28;01mreturn\u001b[39;00m numerator \u001b[38;5;241m/\u001b[39m denominator\n",
      "\u001b[1;31mZeroDivisionError\u001b[0m: float division by zero"
     ]
    }
   ],
   "source": [
    "\n",
    "l=[i*2000 for i in range(6)]\n",
    "print(l)\n",
    "\n",
    "\n",
    "cc=color_conversion(l,DeColour=False)\n",
    "\n",
    "\n",
    "\n",
    "for i in cc:\n",
    "    print(i)\n",
    "\n",
    "display_colors(cc)"
   ]
  },
  {
   "cell_type": "code",
   "execution_count": null,
   "id": "f1006ae7",
   "metadata": {},
   "outputs": [
    {
     "name": "stdout",
     "output_type": "stream",
     "text": [
      "(r, g, b)   (2.995942845404495, -0.822031744671152, 0.04224599109282839)\n",
      "(r, g, b)   (0.9916025429566157, 0.2832966606636862, 0.019699077045948088)\n",
      "(r, g, b)   (0.5168577400363351, 0.34723147341031246, 0.21056330159438824)\n",
      "(r, g, b)   (0.3552277811534128, 0.3229643075454762, 0.321190674326006)\n",
      "(r, g, b)   (0.2858854381827984, 0.3011114828787011, 0.379997295745911)\n",
      "(r, g, b)   (0.2498712289239837, 0.28597254802356054, 0.41429693806738555)\n",
      "(1, 0.08898412766442398, 0.5211229955464142)\n",
      "(0.9958012714783078, 0.6416483303318431, 0.509849538522974)\n",
      "(0.7584288700181676, 0.6736157367051563, 0.6052816507971941)\n",
      "(0.6776138905767064, 0.6614821537727381, 0.660595337163003)\n",
      "(0.6429427190913992, 0.6505557414393506, 0.6899986478729555)\n",
      "(0.6249356144619919, 0.6429862740117802, 0.7071484690336928)\n"
     ]
    },
    {
     "data": {
      "image/png": "[encoded data removed]",
      "text/plain": [
       "<Figure size 600x100 with 6 Axes>"
      ]
     },
     "metadata": {},
     "output_type": "display_data"
    }
   ],
   "source": [
    "cc=color_conversion(l,DeColour=True)\n",
    "\n",
    "for i in cc:\n",
    "    print(i)\n",
    "\n",
    "display_colors(cc)"
   ]
  }
 ],
 "metadata": {
  "kernelspec": {
   "display_name": "base",
   "language": "python",
   "name": "python3"
  },
  "language_info": {
   "codemirror_mode": {
    "name": "ipython",
    "version": 3
   },
   "file_extension": ".py",
   "mimetype": "text/x-python",
   "name": "python",
   "nbconvert_exporter": "python",
   "pygments_lexer": "ipython3",
   "version": "3.12.3"
  }
 },
 "nbformat": 4,
 "nbformat_minor": 5
}
