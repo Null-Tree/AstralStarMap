{
 "cells": [
  {
   "cell_type": "code",
   "execution_count": 55,
   "id": "6190c6c4",
   "metadata": {},
   "outputs": [],
   "source": [
    "from SpecRend import *\n",
    "from color_conversion_SpecRend import *"
   ]
  },
  {
   "cell_type": "code",
   "execution_count": 56,
   "id": "ca5132aa",
   "metadata": {},
   "outputs": [
    {
     "name": "stdout",
     "output_type": "stream",
     "text": [
      "[123, 2123, 4123, 6123, 8123, 10123]\n",
      "(1, 0.08898412766442398, 0.5211229955464142)\n",
      "(0.9958012714783078, 0.6416483303318431, 0.509849538522974)\n",
      "(0.7584288700181676, 0.6736157367051563, 0.6052816507971941)\n",
      "(0.6776138905767064, 0.6614821537727381, 0.660595337163003)\n",
      "(0.6429427190913992, 0.6505557414393506, 0.6899986478729555)\n",
      "(0.6249356144619919, 0.6429862740117802, 0.7071484690336928)\n"
     ]
    },
    {
     "data": {
      "image/png": "[encoded data removed]",
      "text/plain": [
       "<Figure size 600x100 with 6 Axes>"
      ]
     },
     "metadata": {},
     "output_type": "display_data"
    }
   ],
   "source": [
    "\n",
    "l=[i*2000+123 for i in range(0,6)]\n",
    "print(l)\n",
    "\n",
    "# l=[1111,1023,9999,9999123]\n",
    "\n",
    "cc=color_conversion(l,DeColour=False)\n",
    "\n",
    "\n",
    "cc=color_conversion(l,DeColour=True)\n",
    "\n",
    "for i in cc:\n",
    "    print(i)\n",
    "\n",
    "display_colors(cc)"
   ]
  },
  {
   "cell_type": "code",
   "execution_count": null,
   "id": "f1006ae7",
   "metadata": {},
   "outputs": [],
   "source": []
  }
 ],
 "metadata": {
  "kernelspec": {
   "display_name": "base",
   "language": "python",
   "name": "python3"
  },
  "language_info": {
   "codemirror_mode": {
    "name": "ipython",
    "version": 3
   },
   "file_extension": ".py",
   "mimetype": "text/x-python",
   "name": "python",
   "nbconvert_exporter": "python",
   "pygments_lexer": "ipython3",
   "version": "3.12.3"
  }
 },
 "nbformat": 4,
 "nbformat_minor": 5
}
